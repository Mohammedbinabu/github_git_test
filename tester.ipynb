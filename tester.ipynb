{
 "cells": [
  {
   "cell_type": "markdown",
   "id": "fb8464c6",
   "metadata": {},
   "source": [
    "### hi"
   ]
  },
  {
   "cell_type": "code",
   "execution_count": null,
   "id": "33b24b06",
   "metadata": {},
   "outputs": [],
   "source": [
    "print('hi')"
   ]
  },
  {
   "cell_type": "code",
   "execution_count": 1,
   "id": "1b47e956",
   "metadata": {},
   "outputs": [],
   "source": [
    "### Mohhamad is scammer"
   ]
  },
  {
   "cell_type": "code",
   "execution_count": null,
   "id": "edb55181",
   "metadata": {},
   "outputs": [],
   "source": [
    "### defertent ly able to run"
   ]
  },
  {
   "cell_type": "markdown",
   "id": "f7570594",
   "metadata": {},
   "source": []
  },
  {
   "cell_type": "markdown",
   "id": "0fa113f4",
   "metadata": {},
   "source": []
  }
 ],
 "metadata": {
  "kernelspec": {
   "display_name": "base",
   "language": "python",
   "name": "python3"
  },
  "language_info": {
   "codemirror_mode": {
    "name": "ipython",
    "version": 3
   },
   "file_extension": ".py",
   "mimetype": "text/x-python",
   "name": "python",
   "nbconvert_exporter": "python",
   "pygments_lexer": "ipython3",
   "version": "3.11.4"
  }
 },
 "nbformat": 4,
 "nbformat_minor": 5
}
